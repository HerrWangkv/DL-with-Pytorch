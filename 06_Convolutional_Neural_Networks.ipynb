{
 "metadata": {
  "language_info": {
   "codemirror_mode": {
    "name": "ipython",
    "version": 3
   },
   "file_extension": ".py",
   "mimetype": "text/x-python",
   "name": "python",
   "nbconvert_exporter": "python",
   "pygments_lexer": "ipython3",
   "version": "3.6.13"
  },
  "orig_nbformat": 2,
  "kernelspec": {
   "name": "python3613jvsc74a57bd0f14d0265c58dcca937431964c116f2c2daf05ac4f2d61c58d7f022c31778fcd5",
   "display_name": "Python 3.6.13 64-bit ('torch': conda)"
  },
  "metadata": {
   "interpreter": {
    "hash": "f14d0265c58dcca937431964c116f2c2daf05ac4f2d61c58d7f022c31778fcd5"
   }
  }
 },
 "nbformat": 4,
 "nbformat_minor": 2,
 "cells": [
  {
   "source": [
    "# 1 Convolutional layer\n",
    "$[B, C_i,H_i, W_i]\\rightarrow[B, C_o,H_o,W_o]$\n",
    "\n",
    "$$H_o=\\lfloor H_i+2*p_H-k_H/s_H\\rfloor+1\\\\W_o=\\lfloor W_i+2*p_W-k_W/s_W\\rfloor+1$$\n",
    "\n",
    "$\\lfloor(10+2*1-3)/2\\rfloor+1=5$\n",
    "\n",
    "$\\lfloor(10+2*2-3)/1\\rfloor+1=12$"
   ],
   "cell_type": "markdown",
   "metadata": {}
  },
  {
   "cell_type": "code",
   "execution_count": 1,
   "metadata": {},
   "outputs": [
    {
     "output_type": "execute_result",
     "data": {
      "text/plain": [
       "torch.Size([8, 3, 5, 12])"
      ]
     },
     "metadata": {},
     "execution_count": 1
    }
   ],
   "source": [
    "import torch\n",
    "from torch import nn\n",
    "\n",
    "# kernel_size, stride, padding can also be int\n",
    "net = nn.Conv2d(in_channels=1, out_channels=3, kernel_size=(3, 3), stride=(2, 1), padding = (1, 2))\n",
    "\n",
    "# batch_size:8\n",
    "# input channel:1\n",
    "# height: 10\n",
    "# width: 10\n",
    "x = torch.randn((8, 1, 10, 10))\n",
    "\n",
    "net(x).shape"
   ]
  },
  {
   "source": [
    "# 2 Pooling layer\n",
    "$[B,C,H_i,W_i]\\rightarrow[B,C,H_o,W_o]$\n",
    "$$H_o=\\lfloor(H_i-k_H)/s_H\\rfloor+1\\\\W_o=\\lfloor(W_i-k_W)/s_W\\rfloor+1$$\n",
    "$\\lfloor(5-2)/2\\rfloor+1=2$\n",
    "\n",
    "$\\lfloor(12-3)/2\\rfloor+1=5$"
   ],
   "cell_type": "markdown",
   "metadata": {}
  },
  {
   "cell_type": "code",
   "execution_count": 2,
   "metadata": {},
   "outputs": [
    {
     "output_type": "execute_result",
     "data": {
      "text/plain": [
       "torch.Size([8, 3, 2, 5])"
      ]
     },
     "metadata": {},
     "execution_count": 2
    }
   ],
   "source": [
    "# kernel_size, stride can also be int\n",
    "net2 = nn.MaxPool2d(kernel_size=(2, 3), stride=2)\n",
    "net2(net(x)).shape"
   ]
  },
  {
   "source": [
    "# 3 LeNet"
   ],
   "cell_type": "markdown",
   "metadata": {}
  },
  {
   "cell_type": "code",
   "execution_count": 3,
   "metadata": {},
   "outputs": [],
   "source": [
    "import time\n",
    "import torch\n",
    "from torch import nn, optim\n",
    "\n",
    "device = torch.device(\"cuda\" if torch.cuda.is_available() else \"cpu\")\n",
    "\n",
    "class LeNet(nn.Module):\n",
    "    def __init__(self):\n",
    "        super(LeNet, self).__init__()\n",
    "        self.conv = nn.Sequential(\n",
    "            # 28-5+1=24\n",
    "            nn.Conv2d(in_channels=1, out_channels=6, kernel_size=5),\n",
    "            nn.Sigmoid(),\n",
    "            # 24/2=12\n",
    "            nn.MaxPool2d(kernel_size=2, stride=2),\n",
    "            # 12-5+1=8\n",
    "            nn.Conv2d(6, 16, 5),\n",
    "            nn.Sigmoid(),\n",
    "            # 8/2=4\n",
    "            nn.MaxPool2d(2, 2)\n",
    "        )\n",
    "        self.fc = nn.Sequential(\n",
    "            nn.Linear(16*4*4, 120),\n",
    "            nn.Sigmoid(),\n",
    "            nn.Linear(120, 84),\n",
    "            nn.Sigmoid(),\n",
    "            nn.Linear(84, 10)\n",
    "        )\n",
    "    def forward(self, img):\n",
    "        feature = self.conv(img)\n",
    "        output = self.fc(feature.view(img.shape[0], -1))\n",
    "        return output"
   ]
  },
  {
   "cell_type": "code",
   "execution_count": 4,
   "metadata": {},
   "outputs": [
    {
     "output_type": "stream",
     "name": "stdout",
     "text": [
      "LeNet(\n  (conv): Sequential(\n    (0): Conv2d(1, 6, kernel_size=(5, 5), stride=(1, 1))\n    (1): Sigmoid()\n    (2): MaxPool2d(kernel_size=2, stride=2, padding=0, dilation=1, ceil_mode=False)\n    (3): Conv2d(6, 16, kernel_size=(5, 5), stride=(1, 1))\n    (4): Sigmoid()\n    (5): MaxPool2d(kernel_size=2, stride=2, padding=0, dilation=1, ceil_mode=False)\n  )\n  (fc): Sequential(\n    (0): Linear(in_features=256, out_features=120, bias=True)\n    (1): Sigmoid()\n    (2): Linear(in_features=120, out_features=84, bias=True)\n    (3): Sigmoid()\n    (4): Linear(in_features=84, out_features=10, bias=True)\n  )\n)\n"
     ]
    }
   ],
   "source": [
    "net = LeNet()\n",
    "print(net)"
   ]
  },
  {
   "cell_type": "code",
   "execution_count": 5,
   "metadata": {},
   "outputs": [],
   "source": [
    "def evaluate_accuracy(data_iter, net, device=None):\n",
    "    if device is None and isinstance(net, torch.nn.Module):\n",
    "        # Use the device net is on\n",
    "        device = list(net.parameters())[0].device\n",
    "    acc_sum, n = 0.0, 0\n",
    "    with torch.no_grad():\n",
    "        for X, y in data_iter:\n",
    "            net.eval() # close Dropout\n",
    "            y_hat = net(X.to(device))\n",
    "            acc_sum += (y_hat.argmax(dim=1) == y.to(device)).float().sum().cpu().item()\n",
    "            n += y.shape[0]\n",
    "            net.train() # return to training mode\n",
    "    return acc_sum / n\n",
    "\n",
    "def train(net, train_iter, test_iter, batch_size, optimizer, device, num_epochs):\n",
    "    net = net.to(device)\n",
    "    print(\" training on \", device)\n",
    "    loss = nn.CrossEntropyLoss()\n",
    "    for epoch in range(num_epochs):\n",
    "        train_l_sum, train_acc_sum, n, batch_count, start = 0.0, 0.0, 0, 0, time.time()\n",
    "        for X, y in train_iter:\n",
    "            X = X.to(device)\n",
    "            y = y.to(device)\n",
    "            y_hat = net(X)\n",
    "            l = loss(y_hat, y)\n",
    "            optimizer.zero_grad()\n",
    "            l.backward()\n",
    "            optimizer.step()\n",
    "            # We do not use to store them on GPU\n",
    "            train_l_sum += l.cpu().item()\n",
    "            train_acc_sum += (y_hat.argmax(dim=1) == y).sum().cpu().item()\n",
    "            n += y.shape[0]\n",
    "            batch_count += 1\n",
    "        test_acc = evaluate_accuracy(test_iter, net)\n",
    "        print('epoch %d, loss %.4f, train acc %.3f, test acc %.3f, time %.1f sec'\n",
    "              % (epoch + 1, train_l_sum / batch_count, train_acc_sum / n, test_acc, time.time() - start))"
   ]
  },
  {
   "cell_type": "code",
   "execution_count": 6,
   "metadata": {},
   "outputs": [
    {
     "output_type": "stream",
     "name": "stdout",
     "text": [
      " training on  cuda\n",
      "epoch 1, loss 1.8364, train acc 0.329, test acc 0.590, time 11.8 sec\n",
      "epoch 2, loss 0.9244, train acc 0.644, test acc 0.685, time 11.2 sec\n",
      "epoch 3, loss 0.7465, train acc 0.721, test acc 0.724, time 12.7 sec\n",
      "epoch 4, loss 0.6640, train acc 0.743, test acc 0.746, time 12.2 sec\n",
      "epoch 5, loss 0.6101, train acc 0.760, test acc 0.756, time 12.1 sec\n"
     ]
    }
   ],
   "source": [
    "import torchvision\n",
    "import torchvision.transforms as transforms\n",
    "lr, num_epochs = 0.001, 5\n",
    "batch_size = 256\n",
    "\n",
    "train_data = torchvision.datasets.FashionMNIST(root=\"./data/FashionMNIST\", train=True, transform=transforms.ToTensor(), download=True)\n",
    "test_data = torchvision.datasets.FashionMNIST(root=\"./data/FashionMNIST\", train=False, transform=transforms.ToTensor(), download=True)\n",
    "\n",
    "train_iter = torch.utils.data.DataLoader(train_data, batch_size, shuffle=True)\n",
    "test_iter = torch.utils.data.DataLoader(test_data, batch_size)\n",
    "optimizer = torch.optim.Adam(net.parameters(), lr=lr)\n",
    "train(net, train_iter, test_iter, batch_size, optimizer, device, num_epochs)"
   ]
  }
 ]
}