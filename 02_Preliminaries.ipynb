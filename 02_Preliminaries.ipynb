{
 "metadata": {
  "language_info": {
   "codemirror_mode": {
    "name": "ipython",
    "version": 3
   },
   "file_extension": ".py",
   "mimetype": "text/x-python",
   "name": "python",
   "nbconvert_exporter": "python",
   "pygments_lexer": "ipython3",
   "version": "3.6.13"
  },
  "orig_nbformat": 2,
  "kernelspec": {
   "name": "python3613jvsc74a57bd0f14d0265c58dcca937431964c116f2c2daf05ac4f2d61c58d7f022c31778fcd5",
   "display_name": "Python 3.6.13 64-bit ('torch': conda)"
  },
  "metadata": {
   "interpreter": {
    "hash": "f14d0265c58dcca937431964c116f2c2daf05ac4f2d61c58d7f022c31778fcd5"
   }
  }
 },
 "nbformat": 4,
 "nbformat_minor": 2,
 "cells": [
  {
   "source": [
    "# 1 Installation\n"
   ],
   "cell_type": "markdown",
   "metadata": {}
  },
  {
   "cell_type": "code",
   "execution_count": null,
   "metadata": {},
   "outputs": [],
   "source": [
    "!conda install pytorch torchvision torchaudio cudatoolkit=10.2 -c pytorch"
   ]
  },
  {
   "cell_type": "code",
   "execution_count": 1,
   "metadata": {},
   "outputs": [
    {
     "output_type": "stream",
     "name": "stdout",
     "text": [
      "1.2.0\n"
     ]
    },
    {
     "output_type": "execute_result",
     "data": {
      "text/plain": [
       "True"
      ]
     },
     "metadata": {},
     "execution_count": 1
    }
   ],
   "source": [
    "import torch \n",
    "print(torch.__version__)\n",
    "torch.cuda.is_available()"
   ]
  },
  {
   "source": [
    "# 2 Tensor\n",
    "## 2.1 Create a tensor"
   ],
   "cell_type": "markdown",
   "metadata": {}
  },
  {
   "cell_type": "code",
   "execution_count": 1,
   "metadata": {},
   "outputs": [
    {
     "output_type": "stream",
     "name": "stdout",
     "text": [
      "tensor([[1.0305e+21, 7.1833e+22, 1.2102e+25],\n        [1.2415e+28, 1.0804e+27, 4.5452e+30],\n        [1.8910e+23, 7.1443e+31, 7.5016e+28],\n        [7.7782e+31, 6.9983e+28, 5.0840e+31],\n        [1.8057e+28, 6.9983e+28, 7.3982e+20]])\n"
     ]
    }
   ],
   "source": [
    "# uninitialized tensor\n",
    "x = torch.empty(5, 3)\n",
    "print(x)"
   ]
  },
  {
   "cell_type": "code",
   "execution_count": 4,
   "metadata": {},
   "outputs": [
    {
     "output_type": "stream",
     "name": "stdout",
     "text": [
      "tensor([[0.3358, 0.8925, 0.9992],\n        [0.6815, 0.3979, 0.0456],\n        [0.2348, 0.1740, 0.3410],\n        [0.1765, 0.8558, 0.1151],\n        [0.1539, 0.0895, 0.5048]])\n"
     ]
    }
   ],
   "source": [
    "# random initialized tensor\n",
    "x = torch.rand(5, 3)\n",
    "print(x)"
   ]
  },
  {
   "cell_type": "code",
   "execution_count": 6,
   "metadata": {},
   "outputs": [
    {
     "output_type": "stream",
     "name": "stdout",
     "text": [
      "tensor([5, 3])\n"
     ]
    }
   ],
   "source": [
    "# from a list\n",
    "x = torch.tensor([5, 3])\n",
    "print(x)"
   ]
  },
  {
   "cell_type": "code",
   "execution_count": 9,
   "metadata": {},
   "outputs": [
    {
     "output_type": "stream",
     "name": "stdout",
     "text": [
      "tensor([[1., 1., 1.],\n        [1., 1., 1.],\n        [1., 1., 1.],\n        [1., 1., 1.],\n        [1., 1., 1.]], dtype=torch.float64)\ntensor([[0.9712, 0.3796, 0.3490],\n        [0.9114, 0.4722, 0.1705],\n        [0.1037, 0.7482, 0.6387],\n        [0.1871, 0.7565, 0.7705],\n        [0.8225, 0.5013, 0.2657]])\n"
     ]
    }
   ],
   "source": [
    "# from a existing tensor\n",
    "x = torch.ones(5, 3, dtype = torch.float64)\n",
    "y = torch.rand_like(x, dtype=torch.float)\n",
    "print(x)\n",
    "print(y)"
   ]
  },
  {
   "source": [
    "## 2.2 Properties"
   ],
   "cell_type": "markdown",
   "metadata": {}
  },
  {
   "cell_type": "code",
   "execution_count": 11,
   "metadata": {},
   "outputs": [
    {
     "output_type": "stream",
     "name": "stdout",
     "text": [
      "torch.Size([5, 3])\ntorch.Size([5, 3])\n"
     ]
    }
   ],
   "source": [
    "# size/shape\n",
    "x = torch.ones(5, 3)\n",
    "print(x.size())\n",
    "print(x.shape)"
   ]
  },
  {
   "cell_type": "code",
   "execution_count": 17,
   "metadata": {},
   "outputs": [
    {
     "output_type": "stream",
     "name": "stdout",
     "text": [
      "tensor([[0.9439, 0.5048, 1.0588],\n        [0.5335, 0.7277, 1.0580],\n        [1.2801, 0.4771, 1.2043],\n        [1.0175, 1.4859, 0.6293],\n        [0.4982, 1.6123, 0.6505]])\ntensor([[0.9439, 0.5048, 1.0588],\n        [0.5335, 0.7277, 1.0580],\n        [1.2801, 0.4771, 1.2043],\n        [1.0175, 1.4859, 0.6293],\n        [0.4982, 1.6123, 0.6505]])\ntensor([[0.9439, 0.5048, 1.0588],\n        [0.5335, 0.7277, 1.0580],\n        [1.2801, 0.4771, 1.2043],\n        [1.0175, 1.4859, 0.6293],\n        [0.4982, 1.6123, 0.6505]])\ntensor([[0.9439, 0.5048, 1.0588],\n        [0.5335, 0.7277, 1.0580],\n        [1.2801, 0.4771, 1.2043],\n        [1.0175, 1.4859, 0.6293],\n        [0.4982, 1.6123, 0.6505]])\n"
     ]
    }
   ],
   "source": [
    "# Addition\n",
    "x = torch.rand(5, 3)\n",
    "y = torch.rand(5, 3)\n",
    "print(x + y)\n",
    "\n",
    "result = torch.empty(5, 3) # result has to be defined before\n",
    "torch.add(x, y, out = result)\n",
    "print(result)\n",
    "\n",
    "print(y.add(x))\n",
    "\n",
    "# inplace Addition\n",
    "y.add_(x)\n",
    "print(y)"
   ]
  },
  {
   "cell_type": "code",
   "execution_count": 21,
   "metadata": {},
   "outputs": [
    {
     "output_type": "stream",
     "name": "stdout",
     "text": [
      "tensor([[2., 2., 2.],\n        [1., 1., 1.],\n        [1., 1., 1.],\n        [1., 1., 1.],\n        [1., 1., 1.]])\n"
     ]
    }
   ],
   "source": [
    "# Indexing and Slicing: the result is actually a REFERENCE of the original tensor, do not allocate new memory\n",
    "x = torch.ones(5, 3)\n",
    "y = x[0, :]\n",
    "y += 1\n",
    "print(x) # x changes with y"
   ]
  },
  {
   "cell_type": "code",
   "execution_count": 32,
   "metadata": {},
   "outputs": [
    {
     "output_type": "stream",
     "name": "stdout",
     "text": [
      "tensor([[0., 1., 1., 1., 1.],\n        [1., 1., 1., 1., 1.],\n        [1., 1., 1., 1., 1.]])\n"
     ]
    }
   ],
   "source": [
    "# reshape : 'view()` allocates new memory, but the result shares data with the original tensor\n",
    "x = torch.ones(5, 3)\n",
    "z = x.view(-1, 5)\n",
    "x[0, 0] -= 1 # change z will also change x and y\n",
    "print(z)"
   ]
  },
  {
   "cell_type": "code",
   "execution_count": 34,
   "metadata": {},
   "outputs": [
    {
     "output_type": "stream",
     "name": "stdout",
     "text": [
      "tensor([[0., 0., 0.],\n        [0., 0., 0.],\n        [0., 0., 0.],\n        [0., 0., 0.],\n        [0., 0., 0.]])\ntensor([[1., 1., 1., 1., 1.],\n        [1., 1., 1., 1., 1.],\n        [1., 1., 1., 1., 1.]])\n"
     ]
    }
   ],
   "source": [
    "# reshape with a copy\n",
    "x = torch.ones(5, 3)\n",
    "x_cp = x.clone().view(-1, 5)\n",
    "x -= 1\n",
    "print(x)\n",
    "print(x_cp)"
   ]
  },
  {
   "cell_type": "code",
   "execution_count": 37,
   "metadata": {},
   "outputs": [
    {
     "output_type": "stream",
     "name": "stdout",
     "text": [
      "tensor([1.0237])\n1.0237070322036743\n"
     ]
    }
   ],
   "source": [
    "# convert an one element tensor to python scalar\n",
    "x = torch.randn(1)\n",
    "print(x)\n",
    "print(x.item())"
   ]
  },
  {
   "source": [
    "## 2.3 Broadcasting\n",
    "Broadcasting mechanism can expand one or both tensors by copying elements appropriately so that after this transformation, the two tensors have the same shape."
   ],
   "cell_type": "markdown",
   "metadata": {}
  },
  {
   "cell_type": "code",
   "execution_count": 38,
   "metadata": {},
   "outputs": [
    {
     "output_type": "stream",
     "name": "stdout",
     "text": [
      "tensor([[1, 2]])\ntensor([[1],\n        [2],\n        [3]])\ntensor([[2, 3],\n        [3, 4],\n        [4, 5]])\n"
     ]
    }
   ],
   "source": [
    "x = torch.arange(2).view(1, 2)\n",
    "print(x)\n",
    "y = torch.arange(3).view(3, 1)\n",
    "print(y)\n",
    "print(x + y)"
   ]
  },
  {
   "source": [
    "## 2.4 Saving Memory\n",
    "Python's `id()` function gives us the exact address of the referenced object in memory"
   ],
   "cell_type": "markdown",
   "metadata": {}
  },
  {
   "cell_type": "code",
   "execution_count": 39,
   "metadata": {},
   "outputs": [
    {
     "output_type": "stream",
     "name": "stdout",
     "text": [
      "False\n"
     ]
    }
   ],
   "source": [
    "x = torch.tensor([1, 2])\n",
    "y = torch.tensor([3, 4])\n",
    "id_before = id(y)\n",
    "y = x + y  # we allocate new memory here\n",
    "print(id(y) == id_before)"
   ]
  },
  {
   "cell_type": "code",
   "execution_count": 41,
   "metadata": {},
   "outputs": [
    {
     "output_type": "stream",
     "name": "stdout",
     "text": [
      "True\n"
     ]
    }
   ],
   "source": [
    "x = torch.tensor([1, 2])\n",
    "y = torch.tensor([3, 4])\n",
    "id_before = id(y)\n",
    "y[:] = x + y # Do not allocate new memory\n",
    "print(id(y) == id_before)"
   ]
  },
  {
   "cell_type": "code",
   "execution_count": 42,
   "metadata": {},
   "outputs": [
    {
     "output_type": "stream",
     "name": "stdout",
     "text": [
      "True\n"
     ]
    }
   ],
   "source": [
    "x = torch.tensor([1, 2])\n",
    "y = torch.tensor([3, 4])\n",
    "id_before = id(y)\n",
    "torch.add(x, y, out = y) # Do not allocate new memory\n",
    "print(id(y) == id_before)\n"
   ]
  },
  {
   "cell_type": "code",
   "execution_count": 43,
   "metadata": {},
   "outputs": [
    {
     "output_type": "stream",
     "name": "stdout",
     "text": [
      "True\n"
     ]
    }
   ],
   "source": [
    "x = torch.tensor([1, 2])\n",
    "y = torch.tensor([3, 4])\n",
    "id_before = id(y)\n",
    "y += x # Do not allocate new memory\n",
    "print(id(y) == id_before)"
   ]
  },
  {
   "cell_type": "code",
   "execution_count": 45,
   "metadata": {},
   "outputs": [
    {
     "output_type": "stream",
     "name": "stdout",
     "text": [
      "True\n"
     ]
    }
   ],
   "source": [
    "x = torch.tensor([1, 2])\n",
    "y = torch.tensor([3, 4])\n",
    "id_before = id(y)\n",
    "y.add_(x) # Do not allocate new memory\n",
    "print(id(y) == id_before)"
   ]
  },
  {
   "source": [
    "## 2.5 Conversion to Numpy and vice versa"
   ],
   "cell_type": "markdown",
   "metadata": {}
  },
  {
   "cell_type": "code",
   "execution_count": 49,
   "metadata": {},
   "outputs": [
    {
     "output_type": "stream",
     "name": "stdout",
     "text": [
      "tensor([1., 1., 1., 1., 1.]) [1. 1. 1. 1. 1.]\ntensor([2., 2., 2., 2., 2.]) [2. 2. 2. 2. 2.]\ntensor([3., 3., 3., 3., 3.]) [3. 3. 3. 3. 3.]\n"
     ]
    }
   ],
   "source": [
    "# tensor to numpy.ndarray : SHARE the memory\n",
    "a = torch.ones(5)\n",
    "b = a.numpy()\n",
    "print(a, b)\n",
    "a += 1\n",
    "print(a, b)\n",
    "b += 1\n",
    "print(a, b)"
   ]
  },
  {
   "cell_type": "code",
   "execution_count": 50,
   "metadata": {},
   "outputs": [
    {
     "output_type": "stream",
     "name": "stdout",
     "text": [
      "[1. 1. 1. 1. 1.] tensor([1., 1., 1., 1., 1.], dtype=torch.float64)\n[2. 2. 2. 2. 2.] tensor([2., 2., 2., 2., 2.], dtype=torch.float64)\n[3. 3. 3. 3. 3.] tensor([3., 3., 3., 3., 3.], dtype=torch.float64)\n"
     ]
    }
   ],
   "source": [
    "# numpy.ndarray to tensor using `torch.from_numpy()`: SHARE the memory\n",
    "import numpy as np\n",
    "a = np.ones(5)\n",
    "b = torch.from_numpy(a)\n",
    "print(a, b)\n",
    "\n",
    "a += 1\n",
    "print(a, b)\n",
    "b += 1\n",
    "print(a, b)\n"
   ]
  },
  {
   "cell_type": "code",
   "execution_count": 52,
   "metadata": {},
   "outputs": [
    {
     "output_type": "stream",
     "name": "stdout",
     "text": [
      "[1. 1. 1. 1. 1.] tensor([1., 1., 1., 1., 1.], dtype=torch.float64)\n[2. 2. 2. 2. 2.] tensor([1., 1., 1., 1., 1.], dtype=torch.float64)\n[2. 2. 2. 2. 2.] tensor([3., 3., 3., 3., 3.], dtype=torch.float64)\n"
     ]
    }
   ],
   "source": [
    "# numpy.ndarray to tensor using `torch.tensor()`: do not SHARE the memory\n",
    "a = np.ones(5)\n",
    "b = torch.tensor(a)\n",
    "print(a, b)\n",
    "a += 1\n",
    "print(a, b)\n",
    "b += 2\n",
    "print(a, b)"
   ]
  },
  {
   "source": [
    "## 2.6 Tensor on GPU"
   ],
   "cell_type": "markdown",
   "metadata": {}
  },
  {
   "cell_type": "code",
   "execution_count": 2,
   "metadata": {},
   "outputs": [
    {
     "output_type": "stream",
     "name": "stdout",
     "text": [
      "tensor([[2., 2., 2.],\n        [2., 2., 2.],\n        [2., 2., 2.],\n        [2., 2., 2.],\n        [2., 2., 2.]], device='cuda:0')\ntensor([[2., 2., 2.],\n        [2., 2., 2.],\n        [2., 2., 2.],\n        [2., 2., 2.],\n        [2., 2., 2.]], dtype=torch.float64)\n"
     ]
    }
   ],
   "source": [
    "x = torch.ones(5, 3)\n",
    "if torch.cuda.is_available():\n",
    "    device = torch.device(\"cuda\")\n",
    "    y = torch.ones_like(x, device = device) # directly created on GPU\n",
    "    x = x.to(device) #equivalent to `x = x.to(\"cuda\")\n",
    "    z = x + y\n",
    "    print(z)\n",
    "    print(z.to(\"cpu\", torch.double)) # change the datatype simultaneously"
   ]
  },
  {
   "source": [
    "# 3 Data Preprocessing\n",
    "## 3.1 Reading the dataset"
   ],
   "cell_type": "markdown",
   "metadata": {}
  },
  {
   "cell_type": "code",
   "execution_count": 4,
   "metadata": {},
   "outputs": [],
   "source": [
    "# Create a dataset\n",
    "import os\n",
    "\n",
    "os.makedirs(os.path.join(\".\", \"data\"), exist_ok=True)\n",
    "data_file = os.path.join(\".\", \"data\", \"house_tiny.csv\")\n",
    "with open(data_file, \"w\") as f:\n",
    "    f.write(\"NumRooms,Alley,Price\\n\") # Column names\n",
    "    f.write(\"NA,Pave,127500\\n\")\n",
    "    f.write(\"2,NA,106000\\n\")\n",
    "    f.write(\"4,NA,178100\\n\")\n",
    "    f.write(\"NA,NA,140000\\n\")"
   ]
  },
  {
   "cell_type": "code",
   "execution_count": 5,
   "metadata": {},
   "outputs": [
    {
     "output_type": "stream",
     "name": "stdout",
     "text": [
      "   NumRooms Alley   Price\n0       NaN  Pave  127500\n1       2.0   NaN  106000\n2       4.0   NaN  178100\n3       NaN   NaN  140000\n"
     ]
    }
   ],
   "source": [
    "# Read the dataset\n",
    "import pandas as pd\n",
    "data = pd.read_csv(data_file)\n",
    "print(data)"
   ]
  },
  {
   "source": [
    "## 3.2 Handle Missing Data"
   ],
   "cell_type": "markdown",
   "metadata": {}
  },
  {
   "cell_type": "code",
   "execution_count": 11,
   "metadata": {},
   "outputs": [
    {
     "output_type": "stream",
     "name": "stdout",
     "text": [
      "   NumRooms Alley\n0       3.0  Pave\n1       2.0   NaN\n2       4.0   NaN\n3       3.0   NaN\n"
     ]
    }
   ],
   "source": [
    "inputs, outputs = data.iloc[:, 0:2], data.iloc[:, 2]\n",
    "inputs = inputs.fillna(inputs.mean()) # Only deal with munnerical values\n",
    "print(inputs)"
   ]
  },
  {
   "cell_type": "code",
   "execution_count": 13,
   "metadata": {},
   "outputs": [
    {
     "output_type": "stream",
     "name": "stdout",
     "text": [
      "   NumRooms  Alley_Pave  Alley_nan\n0       3.0           1          0\n1       2.0           0          1\n2       4.0           0          1\n3       3.0           0          1\n"
     ]
    }
   ],
   "source": [
    "# For categorical or discretet values, we consider NaN as a category and convert column \"Alley\" to several different columns according to the discrete values(categories)\n",
    "inputs = pd.get_dummies(inputs, dummy_na=True)\n",
    "print(inputs)"
   ]
  },
  {
   "source": [
    "## 3.3 Conversion to the Tensor Format"
   ],
   "cell_type": "markdown",
   "metadata": {}
  },
  {
   "cell_type": "code",
   "execution_count": 15,
   "metadata": {},
   "outputs": [
    {
     "output_type": "execute_result",
     "data": {
      "text/plain": [
       "(tensor([[3., 1., 0.],\n",
       "         [2., 0., 1.],\n",
       "         [4., 0., 1.],\n",
       "         [3., 0., 1.]], dtype=torch.float64),\n",
       " tensor([127500, 106000, 178100, 140000]))"
      ]
     },
     "metadata": {},
     "execution_count": 15
    }
   ],
   "source": [
    "X, y = torch.tensor(inputs.values), torch.tensor(outputs.values)\n",
    "X, y"
   ]
  },
  {
   "source": [
    "# 4 Autograd\n",
    "attributes and methods of `Tensor`:\n",
    "- `requires_grad`: True, when we want to track the gradient\n",
    "- `grad_fn`: return a `Function` for this Tensor\n",
    "- `grad`: gradient\n",
    "- `backward()`: do the backpropagation and thus change the attribute `grad` \n",
    "- `detach()`: stop to track the future computation"
   ],
   "cell_type": "markdown",
   "metadata": {}
  },
  {
   "source": [
    "## 4.1 `requires_grad` and `grad_fn`"
   ],
   "cell_type": "markdown",
   "metadata": {}
  },
  {
   "cell_type": "code",
   "execution_count": 19,
   "metadata": {},
   "outputs": [
    {
     "output_type": "stream",
     "name": "stdout",
     "text": [
      "tensor([[1., 1.],\n        [1., 1.]], requires_grad=True)\nTrue\nNone\n"
     ]
    }
   ],
   "source": [
    "x = torch.ones(2, 2, requires_grad=True)\n",
    "# we call the directly created tensor as `leaf` Leaf node has no `grad_fn`\n",
    "print(x)\n",
    "print(x.is_leaf)\n",
    "print(x.grad_fn)"
   ]
  },
  {
   "cell_type": "code",
   "execution_count": 20,
   "metadata": {},
   "outputs": [
    {
     "output_type": "stream",
     "name": "stdout",
     "text": [
      "tensor([[3., 3.],\n        [3., 3.]], grad_fn=<AddBackward0>)\nFalse\n<AddBackward0 object at 0x7f59d261b080>\n"
     ]
    }
   ],
   "source": [
    "y = x + 2\n",
    "# y is created by addition and thus has `AddBackward` as `grad_fn`\n",
    "print(y)\n",
    "print(y.is_leaf)\n",
    "print(y.grad_fn)"
   ]
  },
  {
   "cell_type": "code",
   "execution_count": 21,
   "metadata": {},
   "outputs": [
    {
     "output_type": "stream",
     "name": "stdout",
     "text": [
      "tensor([[27., 27.],\n        [27., 27.]], grad_fn=<MulBackward0>)\ntensor(27., grad_fn=<MeanBackward0>)\n"
     ]
    }
   ],
   "source": [
    "z = y * y * 3\n",
    "out = z.mean()\n",
    "print(z)\n",
    "print(out)"
   ]
  },
  {
   "cell_type": "code",
   "execution_count": 22,
   "metadata": {},
   "outputs": [
    {
     "output_type": "stream",
     "name": "stdout",
     "text": [
      "False\nTrue\n<SumBackward0 object at 0x7f59d261b7f0>\n"
     ]
    }
   ],
   "source": [
    "# change `requires_grad`\n",
    "a = torch.rand(2, 2) # `requires_grad` is False by default\n",
    "a = ((a * 3) / (a - 1))\n",
    "print(a.requires_grad)\n",
    "a.requires_grad_(True) # change `requires_grad` in-place\n",
    "print(a.requires_grad)\n",
    "b = (a * a).sum()\n",
    "print(b.grad_fn)"
   ]
  },
  {
   "source": [
    "## 4.2 backward()\n",
    "### 4.2.1 Scalar\n",
    "For `loss.backward()`, if `loss` is a scalar, we do not need to add a parameter for `backward()`"
   ],
   "cell_type": "markdown",
   "metadata": {}
  },
  {
   "cell_type": "code",
   "execution_count": 23,
   "metadata": {},
   "outputs": [],
   "source": [
    "x = torch.ones(2, 2, requires_grad=True)\n",
    "y = x + 2\n",
    "z = y * y * 3\n",
    "out = z.mean()"
   ]
  },
  {
   "source": [
    "$\\frac{dy}{dx} = \\boldsymbol I, \\frac{dz}{dy} = 6\\boldsymbol y, \\frac{dout}{dz} = \\frac{1}{4}$\n",
    "\n",
    "$\\frac{dout}{dx} = \\frac{3}{2}\\boldsymbol y$"
   ],
   "cell_type": "markdown",
   "metadata": {}
  },
  {
   "cell_type": "code",
   "execution_count": 24,
   "metadata": {},
   "outputs": [
    {
     "output_type": "stream",
     "name": "stdout",
     "text": [
      "tensor([[4.5000, 4.5000],\n        [4.5000, 4.5000]])\n"
     ]
    }
   ],
   "source": [
    "out.backward()\n",
    "print(x.grad)"
   ]
  },
  {
   "cell_type": "code",
   "execution_count": 25,
   "metadata": {},
   "outputs": [
    {
     "output_type": "stream",
     "name": "stdout",
     "text": [
      "d out/d x + d out2 / d x: \n tensor([[5.5000, 5.5000],\n        [5.5000, 5.5000]])\nd out3/dx:\n tensor([[1., 1.],\n        [1., 1.]])\n"
     ]
    }
   ],
   "source": [
    "# grad is ACCUMULATED during the training\n",
    "out2 = x.sum()\n",
    "out2.backward()\n",
    "print(\"d out/d x + d out2 / d x: \\n\", x.grad)\n",
    "\n",
    "out3 = x.sum()\n",
    "x.grad.data.zero_() # Clear the previous gradient d out/d x\n",
    "out3.backward()\n",
    "print(\"d out3/dx:\\n\", x.grad)"
   ]
  }
 ]
}