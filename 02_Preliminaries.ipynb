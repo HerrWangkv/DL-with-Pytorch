{
 "metadata": {
  "language_info": {
   "codemirror_mode": {
    "name": "ipython",
    "version": 3
   },
   "file_extension": ".py",
   "mimetype": "text/x-python",
   "name": "python",
   "nbconvert_exporter": "python",
   "pygments_lexer": "ipython3",
   "version": "3.6.13"
  },
  "orig_nbformat": 2,
  "kernelspec": {
   "name": "python3613jvsc74a57bd0f14d0265c58dcca937431964c116f2c2daf05ac4f2d61c58d7f022c31778fcd5",
   "display_name": "Python 3.6.13 64-bit ('torch': conda)"
  },
  "metadata": {
   "interpreter": {
    "hash": "f14d0265c58dcca937431964c116f2c2daf05ac4f2d61c58d7f022c31778fcd5"
   }
  }
 },
 "nbformat": 4,
 "nbformat_minor": 2,
 "cells": [
  {
   "source": [
    "# 1 Installation\n"
   ],
   "cell_type": "markdown",
   "metadata": {}
  },
  {
   "cell_type": "code",
   "execution_count": 3,
   "metadata": {},
   "outputs": [],
   "source": [
    "#!conda install pytorch torchvision torchaudio cudatoolkit=10.2 -c pytorch"
   ]
  },
  {
   "cell_type": "code",
   "execution_count": 4,
   "metadata": {},
   "outputs": [
    {
     "output_type": "stream",
     "name": "stdout",
     "text": [
      "1.2.0\n"
     ]
    },
    {
     "output_type": "execute_result",
     "data": {
      "text/plain": [
       "True"
      ]
     },
     "metadata": {},
     "execution_count": 4
    }
   ],
   "source": [
    "import torch \n",
    "print(torch.__version__)\n",
    "torch.cuda.is_available()"
   ]
  },
  {
   "source": [
    "# 2 Tensor\n",
    "## 2.1 Create a tensor"
   ],
   "cell_type": "markdown",
   "metadata": {}
  },
  {
   "cell_type": "code",
   "execution_count": 5,
   "metadata": {},
   "outputs": [
    {
     "output_type": "stream",
     "name": "stdout",
     "text": [
      "tensor([[2.0165e-16, 4.5558e-41, 2.0165e-16],\n        [4.5558e-41, 0.0000e+00, 0.0000e+00],\n        [0.0000e+00, 0.0000e+00, 0.0000e+00],\n        [4.5556e-41, 7.7052e+31, 7.2148e+22],\n        [2.5226e-18, 2.5930e-09, 1.0299e-11]])\n"
     ]
    }
   ],
   "source": [
    "# uninitialized tensor\n",
    "x = torch.empty(5, 3)\n",
    "print(x)"
   ]
  },
  {
   "cell_type": "code",
   "execution_count": 6,
   "metadata": {},
   "outputs": [
    {
     "output_type": "stream",
     "name": "stdout",
     "text": [
      "tensor([[0.7974, 0.4379, 0.5271],\n        [0.0137, 0.1592, 0.2382],\n        [0.0525, 0.2752, 0.8075],\n        [0.1118, 0.5983, 0.4822],\n        [0.4174, 0.4503, 0.8434]])\ntensor([[ 0.6997, -1.3750, -0.2327],\n        [ 0.1116, -1.4076,  0.5490],\n        [ 0.9344,  0.3409, -0.1898],\n        [-0.3784, -0.2884,  0.2256],\n        [-1.0037, -0.2776,  0.9279]])\n"
     ]
    }
   ],
   "source": [
    "# random initialized tensor\n",
    "x = torch.rand(5, 3) # Returns a tensor filled with random numbers from a uniform distribution on the interval [0, 1)\n",
    "\n",
    "y = torch.randn(5, 3) # Returns a tensor filled with random numbers from a normal distribution with mean 0 and variance 1 \n",
    "print(x)\n",
    "print(y)"
   ]
  },
  {
   "cell_type": "code",
   "execution_count": 7,
   "metadata": {},
   "outputs": [
    {
     "output_type": "stream",
     "name": "stdout",
     "text": [
      "tensor([5, 3])\n"
     ]
    }
   ],
   "source": [
    "# from a list\n",
    "x = torch.tensor([5, 3])\n",
    "print(x)"
   ]
  },
  {
   "cell_type": "code",
   "execution_count": 8,
   "metadata": {},
   "outputs": [
    {
     "output_type": "stream",
     "name": "stdout",
     "text": [
      "tensor([[1., 1., 1.],\n        [1., 1., 1.],\n        [1., 1., 1.],\n        [1., 1., 1.],\n        [1., 1., 1.]], dtype=torch.float64)\ntensor([[0.7728, 0.1372, 0.2402],\n        [0.2752, 0.8795, 0.8423],\n        [0.4405, 0.5696, 0.4664],\n        [0.2972, 0.8016, 0.2430],\n        [0.2186, 0.4146, 0.4985]])\n"
     ]
    }
   ],
   "source": [
    "# from a existing tensor\n",
    "x = torch.ones(5, 3, dtype = torch.float64)\n",
    "y = torch.rand_like(x, dtype=torch.float)\n",
    "print(x)\n",
    "print(y)"
   ]
  },
  {
   "source": [
    "## 2.2 Properties"
   ],
   "cell_type": "markdown",
   "metadata": {}
  },
  {
   "cell_type": "code",
   "execution_count": 9,
   "metadata": {},
   "outputs": [
    {
     "output_type": "stream",
     "name": "stdout",
     "text": [
      "torch.Size([5, 3])\ntorch.Size([5, 3])\n"
     ]
    }
   ],
   "source": [
    "# size/shape\n",
    "x = torch.ones(5, 3)\n",
    "print(x.size())\n",
    "print(x.shape)"
   ]
  },
  {
   "cell_type": "code",
   "execution_count": 10,
   "metadata": {},
   "outputs": [
    {
     "output_type": "stream",
     "name": "stdout",
     "text": [
      "tensor([[0.9397, 0.4407, 1.1115],\n        [0.9903, 1.0324, 1.1561],\n        [1.8697, 1.1561, 0.3952],\n        [1.3803, 1.5323, 1.1323],\n        [0.6961, 1.5515, 1.4617]])\ntensor([[0.9397, 0.4407, 1.1115],\n        [0.9903, 1.0324, 1.1561],\n        [1.8697, 1.1561, 0.3952],\n        [1.3803, 1.5323, 1.1323],\n        [0.6961, 1.5515, 1.4617]])\ntensor([[0.9397, 0.4407, 1.1115],\n        [0.9903, 1.0324, 1.1561],\n        [1.8697, 1.1561, 0.3952],\n        [1.3803, 1.5323, 1.1323],\n        [0.6961, 1.5515, 1.4617]])\ntensor([[0.9397, 0.4407, 1.1115],\n        [0.9903, 1.0324, 1.1561],\n        [1.8697, 1.1561, 0.3952],\n        [1.3803, 1.5323, 1.1323],\n        [0.6961, 1.5515, 1.4617]])\n"
     ]
    }
   ],
   "source": [
    "# Addition\n",
    "x = torch.rand(5, 3)\n",
    "y = torch.rand(5, 3)\n",
    "print(x + y)\n",
    "\n",
    "result = torch.empty(5, 3) # result has to be defined before\n",
    "torch.add(x, y, out = result)\n",
    "print(result)\n",
    "\n",
    "print(y.add(x))\n",
    "\n",
    "# inplace Addition\n",
    "y.add_(x)\n",
    "print(y)"
   ]
  },
  {
   "cell_type": "code",
   "execution_count": 11,
   "metadata": {},
   "outputs": [
    {
     "output_type": "stream",
     "name": "stdout",
     "text": [
      "tensor([[2., 2., 2.],\n        [1., 1., 1.],\n        [1., 1., 1.],\n        [1., 1., 1.],\n        [1., 1., 1.]])\n"
     ]
    }
   ],
   "source": [
    "# Indexing and Slicing: the result is actually a REFERENCE of the original tensor, do not allocate new memory\n",
    "x = torch.ones(5, 3)\n",
    "y = x[0, :]\n",
    "y += 1\n",
    "print(x) # x changes with y"
   ]
  },
  {
   "cell_type": "code",
   "execution_count": 12,
   "metadata": {},
   "outputs": [
    {
     "output_type": "stream",
     "name": "stdout",
     "text": [
      "tensor([[0., 1., 1., 1., 1.],\n        [1., 1., 1., 1., 1.],\n        [1., 1., 1., 1., 1.]])\n"
     ]
    }
   ],
   "source": [
    "# reshape : 'view()` allocates new memory, but the result shares data with the original tensor\n",
    "x = torch.ones(5, 3)\n",
    "z = x.view(-1, 5)\n",
    "x[0, 0] -= 1 # change z will also change x and y\n",
    "print(z)"
   ]
  },
  {
   "cell_type": "code",
   "execution_count": 13,
   "metadata": {},
   "outputs": [
    {
     "output_type": "stream",
     "name": "stdout",
     "text": [
      "tensor([[0., 0., 0.],\n        [0., 0., 0.],\n        [0., 0., 0.],\n        [0., 0., 0.],\n        [0., 0., 0.]])\ntensor([[1., 1., 1., 1., 1.],\n        [1., 1., 1., 1., 1.],\n        [1., 1., 1., 1., 1.]])\n"
     ]
    }
   ],
   "source": [
    "# reshape with a copy\n",
    "x = torch.ones(5, 3)\n",
    "x_cp = x.clone().view(-1, 5)\n",
    "x -= 1\n",
    "print(x)\n",
    "print(x_cp)"
   ]
  },
  {
   "cell_type": "code",
   "execution_count": 14,
   "metadata": {},
   "outputs": [
    {
     "output_type": "stream",
     "name": "stdout",
     "text": [
      "tensor([1.2776])\n1.2775917053222656\n"
     ]
    }
   ],
   "source": [
    "# convert an one element tensor to python scalar\n",
    "x = torch.randn(1)\n",
    "print(x)\n",
    "print(x.item())"
   ]
  },
  {
   "source": [
    "## 2.3 Broadcasting\n",
    "Broadcasting mechanism can expand one or both tensors by copying elements appropriately so that after this transformation, the two tensors have the same shape."
   ],
   "cell_type": "markdown",
   "metadata": {}
  },
  {
   "cell_type": "code",
   "execution_count": 15,
   "metadata": {},
   "outputs": [
    {
     "output_type": "stream",
     "name": "stdout",
     "text": [
      "tensor([[0, 1]])\ntensor([[0],\n        [1],\n        [2]])\ntensor([[0, 1],\n        [1, 2],\n        [2, 3]])\n"
     ]
    }
   ],
   "source": [
    "x = torch.arange(2).view(1, 2)\n",
    "print(x)\n",
    "y = torch.arange(3).view(3, 1)\n",
    "print(y)\n",
    "print(x + y)"
   ]
  },
  {
   "source": [
    "## 2.4 Saving Memory\n",
    "Python's `id()` function gives us the exact address of the referenced object in memory"
   ],
   "cell_type": "markdown",
   "metadata": {}
  },
  {
   "cell_type": "code",
   "execution_count": 16,
   "metadata": {},
   "outputs": [
    {
     "output_type": "stream",
     "name": "stdout",
     "text": [
      "False\n"
     ]
    }
   ],
   "source": [
    "x = torch.tensor([1, 2])\n",
    "y = torch.tensor([3, 4])\n",
    "id_before = id(y)\n",
    "y = x + y  # we allocate new memory here\n",
    "print(id(y) == id_before)"
   ]
  },
  {
   "cell_type": "code",
   "execution_count": 17,
   "metadata": {},
   "outputs": [
    {
     "output_type": "stream",
     "name": "stdout",
     "text": [
      "True\n"
     ]
    }
   ],
   "source": [
    "x = torch.tensor([1, 2])\n",
    "y = torch.tensor([3, 4])\n",
    "id_before = id(y)\n",
    "y[:] = x + y # Do not allocate new memory\n",
    "print(id(y) == id_before)"
   ]
  },
  {
   "cell_type": "code",
   "execution_count": 18,
   "metadata": {},
   "outputs": [
    {
     "output_type": "stream",
     "name": "stdout",
     "text": [
      "True\n"
     ]
    }
   ],
   "source": [
    "x = torch.tensor([1, 2])\n",
    "y = torch.tensor([3, 4])\n",
    "id_before = id(y)\n",
    "torch.add(x, y, out = y) # Do not allocate new memory\n",
    "print(id(y) == id_before)\n"
   ]
  },
  {
   "cell_type": "code",
   "execution_count": 19,
   "metadata": {},
   "outputs": [
    {
     "output_type": "stream",
     "name": "stdout",
     "text": [
      "True\n"
     ]
    }
   ],
   "source": [
    "x = torch.tensor([1, 2])\n",
    "y = torch.tensor([3, 4])\n",
    "id_before = id(y)\n",
    "y += x # Do not allocate new memory\n",
    "print(id(y) == id_before)"
   ]
  },
  {
   "cell_type": "code",
   "execution_count": 20,
   "metadata": {},
   "outputs": [
    {
     "output_type": "stream",
     "name": "stdout",
     "text": [
      "True\n"
     ]
    }
   ],
   "source": [
    "x = torch.tensor([1, 2])\n",
    "y = torch.tensor([3, 4])\n",
    "id_before = id(y)\n",
    "y.add_(x) # Do not allocate new memory\n",
    "print(id(y) == id_before)"
   ]
  },
  {
   "source": [
    "## 2.5 Conversion to Numpy and vice versa"
   ],
   "cell_type": "markdown",
   "metadata": {}
  },
  {
   "cell_type": "code",
   "execution_count": 21,
   "metadata": {},
   "outputs": [
    {
     "output_type": "stream",
     "name": "stdout",
     "text": [
      "tensor([1., 1., 1., 1., 1.]) [1. 1. 1. 1. 1.]\ntensor([2., 2., 2., 2., 2.]) [2. 2. 2. 2. 2.]\ntensor([3., 3., 3., 3., 3.]) [3. 3. 3. 3. 3.]\n"
     ]
    }
   ],
   "source": [
    "# tensor to numpy.ndarray : SHARE the memory\n",
    "a = torch.ones(5)\n",
    "b = a.numpy()\n",
    "print(a, b)\n",
    "a += 1\n",
    "print(a, b)\n",
    "b += 1\n",
    "print(a, b)"
   ]
  },
  {
   "cell_type": "code",
   "execution_count": 22,
   "metadata": {},
   "outputs": [
    {
     "output_type": "stream",
     "name": "stdout",
     "text": [
      "[1. 1. 1. 1. 1.] tensor([1., 1., 1., 1., 1.], dtype=torch.float64)\n[2. 2. 2. 2. 2.] tensor([2., 2., 2., 2., 2.], dtype=torch.float64)\n[3. 3. 3. 3. 3.] tensor([3., 3., 3., 3., 3.], dtype=torch.float64)\n"
     ]
    }
   ],
   "source": [
    "# numpy.ndarray to tensor using `torch.from_numpy()`: SHARE the memory\n",
    "import numpy as np\n",
    "a = np.ones(5)\n",
    "b = torch.from_numpy(a)\n",
    "print(a, b)\n",
    "\n",
    "a += 1\n",
    "print(a, b)\n",
    "b += 1\n",
    "print(a, b)\n"
   ]
  },
  {
   "cell_type": "code",
   "execution_count": 23,
   "metadata": {},
   "outputs": [
    {
     "output_type": "stream",
     "name": "stdout",
     "text": [
      "[1. 1. 1. 1. 1.] tensor([1., 1., 1., 1., 1.], dtype=torch.float64)\n[2. 2. 2. 2. 2.] tensor([1., 1., 1., 1., 1.], dtype=torch.float64)\n[2. 2. 2. 2. 2.] tensor([3., 3., 3., 3., 3.], dtype=torch.float64)\n"
     ]
    }
   ],
   "source": [
    "# numpy.ndarray to tensor using `torch.tensor()`: do not SHARE the memory\n",
    "a = np.ones(5)\n",
    "b = torch.tensor(a)\n",
    "print(a, b)\n",
    "a += 1\n",
    "print(a, b)\n",
    "b += 2\n",
    "print(a, b)"
   ]
  },
  {
   "source": [
    "## 2.6 Tensor on GPU"
   ],
   "cell_type": "markdown",
   "metadata": {}
  },
  {
   "cell_type": "code",
   "execution_count": 24,
   "metadata": {},
   "outputs": [
    {
     "output_type": "stream",
     "name": "stdout",
     "text": [
      "tensor([[2., 2., 2.],\n        [2., 2., 2.],\n        [2., 2., 2.],\n        [2., 2., 2.],\n        [2., 2., 2.]], device='cuda:0')\ntensor([[2., 2., 2.],\n        [2., 2., 2.],\n        [2., 2., 2.],\n        [2., 2., 2.],\n        [2., 2., 2.]], dtype=torch.float64)\n"
     ]
    }
   ],
   "source": [
    "x = torch.ones(5, 3)\n",
    "if torch.cuda.is_available():\n",
    "    device = torch.device(\"cuda\")\n",
    "    y = torch.ones_like(x, device = device) # directly created on GPU\n",
    "    x = x.to(device) #equivalent to `x = x.to(\"cuda\")\n",
    "    z = x + y\n",
    "    print(z)\n",
    "    print(z.to(\"cpu\", torch.double)) # change the datatype simultaneously"
   ]
  },
  {
   "source": [
    "# 3 Data Preprocessing\n",
    "## 3.1 Reading the dataset"
   ],
   "cell_type": "markdown",
   "metadata": {}
  },
  {
   "cell_type": "code",
   "execution_count": 25,
   "metadata": {},
   "outputs": [],
   "source": [
    "# Create a dataset\n",
    "import os\n",
    "\n",
    "os.makedirs(os.path.join(\".\", \"data\"), exist_ok=True)\n",
    "data_file = os.path.join(\".\", \"data\", \"house_tiny.csv\")\n",
    "with open(data_file, \"w\") as f:\n",
    "    f.write(\"NumRooms,Alley,Price\\n\") # Column names\n",
    "    f.write(\"NA,Pave,127500\\n\")\n",
    "    f.write(\"2,NA,106000\\n\")\n",
    "    f.write(\"4,NA,178100\\n\")\n",
    "    f.write(\"NA,NA,140000\\n\")"
   ]
  },
  {
   "cell_type": "code",
   "execution_count": 26,
   "metadata": {},
   "outputs": [
    {
     "output_type": "stream",
     "name": "stdout",
     "text": [
      "   NumRooms Alley   Price\n0       NaN  Pave  127500\n1       2.0   NaN  106000\n2       4.0   NaN  178100\n3       NaN   NaN  140000\n"
     ]
    }
   ],
   "source": [
    "# Read the dataset\n",
    "import pandas as pd\n",
    "data = pd.read_csv(data_file)\n",
    "print(data)"
   ]
  },
  {
   "source": [
    "## 3.2 Handle Missing Data"
   ],
   "cell_type": "markdown",
   "metadata": {}
  },
  {
   "cell_type": "code",
   "execution_count": 27,
   "metadata": {},
   "outputs": [
    {
     "output_type": "stream",
     "name": "stdout",
     "text": [
      "   NumRooms Alley\n0       3.0  Pave\n1       2.0   NaN\n2       4.0   NaN\n3       3.0   NaN\n"
     ]
    }
   ],
   "source": [
    "inputs, outputs = data.iloc[:, 0:2], data.iloc[:, 2]\n",
    "inputs = inputs.fillna(inputs.mean()) # Only deal with munnerical values\n",
    "print(inputs)"
   ]
  },
  {
   "cell_type": "code",
   "execution_count": 28,
   "metadata": {},
   "outputs": [
    {
     "output_type": "stream",
     "name": "stdout",
     "text": [
      "   NumRooms  Alley_Pave  Alley_nan\n0       3.0           1          0\n1       2.0           0          1\n2       4.0           0          1\n3       3.0           0          1\n"
     ]
    }
   ],
   "source": [
    "# For categorical or discretet values, we consider NaN as a category and convert column \"Alley\" to several different columns according to the discrete values(categories)\n",
    "inputs = pd.get_dummies(inputs, dummy_na=True)\n",
    "print(inputs)"
   ]
  },
  {
   "source": [
    "## 3.3 Conversion to the Tensor Format"
   ],
   "cell_type": "markdown",
   "metadata": {}
  },
  {
   "cell_type": "code",
   "execution_count": 29,
   "metadata": {},
   "outputs": [
    {
     "output_type": "execute_result",
     "data": {
      "text/plain": [
       "(tensor([[3., 1., 0.],\n",
       "         [2., 0., 1.],\n",
       "         [4., 0., 1.],\n",
       "         [3., 0., 1.]], dtype=torch.float64),\n",
       " tensor([127500, 106000, 178100, 140000]))"
      ]
     },
     "metadata": {},
     "execution_count": 29
    }
   ],
   "source": [
    "X, y = torch.tensor(inputs.values), torch.tensor(outputs.values)\n",
    "X, y"
   ]
  },
  {
   "source": [
    "# 4 Autograd\n",
    "attributes and methods of `Tensor`:\n",
    "- `requires_grad`: True, when we want to track the gradient\n",
    "- `grad_fn`: return a `Function` for this Tensor\n",
    "- `grad`: gradient describing the latest computation\n",
    "- `backward()`: do the backpropagation and thus change the attribute `grad` \n",
    "- `detach()`: stop to track the future computation\n",
    "- `data`: returns a copy that shares memory. But calculation on `data` will not be tracked. That means, we can change the value without being tracked\n",
    "\n",
    "\n",
    "Or we can detach temporarily:\n",
    "```python\n",
    "with torch.no_grad():\n",
    "    # Computation here will not be tracked\n",
    "```"
   ],
   "cell_type": "markdown",
   "metadata": {}
  },
  {
   "source": [
    "## 4.1 `requires_grad` and `grad_fn`"
   ],
   "cell_type": "markdown",
   "metadata": {}
  },
  {
   "cell_type": "code",
   "execution_count": 30,
   "metadata": {},
   "outputs": [
    {
     "output_type": "stream",
     "name": "stdout",
     "text": [
      "tensor([[1., 1.],\n        [1., 1.]], requires_grad=True)\nTrue\nNone\n"
     ]
    }
   ],
   "source": [
    "x = torch.ones(2, 2, requires_grad=True)\n",
    "# we call the directly created tensor as `leaf` Leaf node has no `grad_fn`\n",
    "print(x)\n",
    "print(x.is_leaf)\n",
    "print(x.grad_fn)"
   ]
  },
  {
   "cell_type": "code",
   "execution_count": 31,
   "metadata": {},
   "outputs": [
    {
     "output_type": "stream",
     "name": "stdout",
     "text": [
      "tensor([[3., 3.],\n        [3., 3.]], grad_fn=<AddBackward0>)\nFalse\n<AddBackward0 object at 0x7efea6500400>\n"
     ]
    }
   ],
   "source": [
    "y = x + 2\n",
    "# y is created by addition and thus has `AddBackward` as `grad_fn`\n",
    "print(y)\n",
    "print(y.is_leaf)\n",
    "print(y.grad_fn)"
   ]
  },
  {
   "cell_type": "code",
   "execution_count": 32,
   "metadata": {},
   "outputs": [
    {
     "output_type": "stream",
     "name": "stdout",
     "text": [
      "tensor([[27., 27.],\n        [27., 27.]], grad_fn=<MulBackward0>)\ntensor(27., grad_fn=<MeanBackward0>)\n"
     ]
    }
   ],
   "source": [
    "z = y * y * 3\n",
    "out = z.mean()\n",
    "print(z)\n",
    "print(out)"
   ]
  },
  {
   "cell_type": "code",
   "execution_count": 33,
   "metadata": {},
   "outputs": [
    {
     "output_type": "stream",
     "name": "stdout",
     "text": [
      "False\nTrue\n<SumBackward0 object at 0x7efea650dba8>\n"
     ]
    }
   ],
   "source": [
    "# change `requires_grad`\n",
    "a = torch.rand(2, 2) # `requires_grad` is False by default\n",
    "a = ((a * 3) / (a - 1))\n",
    "print(a.requires_grad)\n",
    "a.requires_grad_(True) # change `requires_grad` in-place\n",
    "print(a.requires_grad)\n",
    "b = (a * a).sum()\n",
    "print(b.grad_fn)"
   ]
  },
  {
   "source": [
    "## 4.2 `backward()`\n",
    "### 4.2.1 Scalar\n",
    "For `loss.backward()`, if `loss` is a scalar, we do not need to add a parameter for `backward()`"
   ],
   "cell_type": "markdown",
   "metadata": {}
  },
  {
   "cell_type": "code",
   "execution_count": 34,
   "metadata": {},
   "outputs": [],
   "source": [
    "x = torch.ones(2, 2, requires_grad=True)\n",
    "y = x + 2\n",
    "z = y * y * 3\n",
    "out = z.mean()"
   ]
  },
  {
   "cell_type": "code",
   "execution_count": 35,
   "metadata": {},
   "outputs": [
    {
     "output_type": "stream",
     "name": "stdout",
     "text": [
      "tensor([[4.5000, 4.5000],\n        [4.5000, 4.5000]])\n"
     ]
    }
   ],
   "source": [
    "out.backward()\n",
    "print(x.grad)"
   ]
  },
  {
   "cell_type": "code",
   "execution_count": 36,
   "metadata": {},
   "outputs": [
    {
     "output_type": "stream",
     "name": "stdout",
     "text": [
      "d out/d x + d out2 / d x: \n tensor([[5.5000, 5.5000],\n        [5.5000, 5.5000]])\nd out3/dx:\n tensor([[1., 1.],\n        [1., 1.]])\n"
     ]
    }
   ],
   "source": [
    "# grad is ACCUMULATED during the training\n",
    "out2 = x.sum()\n",
    "out2.backward()\n",
    "print(\"d out/d x + d out2 / d x: \\n\", x.grad)\n",
    "\n",
    "out3 = x.sum()\n",
    "x.grad.data.zero_() # Clear the previous gradient\n",
    "out3.backward()\n",
    "print(\"d out3/dx:\\n\", x.grad)"
   ]
  },
  {
   "source": [
    "### 4.2.2 Tensor\n",
    "Actually derivation of tensor to tensor should not be allowed. So when we use `y.backward(w)`, with `y` and `w` as tensors with the same shape, we are doing:\n",
    "```python\n",
    "l = torch.sum(y * w) # l is a scalar\n",
    "l.backward()\n",
    "```"
   ],
   "cell_type": "markdown",
   "metadata": {}
  },
  {
   "cell_type": "code",
   "execution_count": 37,
   "metadata": {},
   "outputs": [
    {
     "output_type": "stream",
     "name": "stdout",
     "text": [
      "tensor([[2., 4.],\n        [6., 8.]], grad_fn=<ViewBackward>)\n"
     ]
    }
   ],
   "source": [
    "x = torch.tensor([1.0, 2.0, 3.0, 4.0], requires_grad=True)\n",
    "y = 2 * x\n",
    "z = y.view(2, 2)\n",
    "print(z)"
   ]
  },
  {
   "cell_type": "code",
   "execution_count": 38,
   "metadata": {},
   "outputs": [
    {
     "output_type": "stream",
     "name": "stdout",
     "text": [
      "tensor([2.0000, 0.2000, 0.0200, 0.0020])\n"
     ]
    }
   ],
   "source": [
    "v = torch.tensor([[1.0, 0.1], [0.01, 0.001]], dtype = torch.float)\n",
    "z.backward(v)\n",
    "print(x.grad)"
   ]
  },
  {
   "source": [
    "## 4.3 Detach"
   ],
   "cell_type": "markdown",
   "metadata": {}
  },
  {
   "cell_type": "code",
   "execution_count": 39,
   "metadata": {},
   "outputs": [
    {
     "output_type": "stream",
     "name": "stdout",
     "text": [
      "True\ntensor(1., grad_fn=<PowBackward0>) True\ntensor(1.) False\ntensor(2., grad_fn=<AddBackward0>) True\ntensor(4., grad_fn=<MulBackward0>) True\n"
     ]
    }
   ],
   "source": [
    "x = torch.tensor(1.0, requires_grad=True)\n",
    "y1 = x ** 2\n",
    "with torch.no_grad():\n",
    "    y2 = x ** 3;\n",
    "y3 = y1 + y2\n",
    "y3.detach() # future gradient will not be calculated\n",
    "y4 = 2 * y3\n",
    "print(x.requires_grad)\n",
    "print(y1, y1.requires_grad)\n",
    "print(y2, y2.requires_grad)\n",
    "print(y3, y3.requires_grad)\n",
    "print(y4, y4.requires_grad)"
   ]
  },
  {
   "cell_type": "code",
   "execution_count": 40,
   "metadata": {},
   "outputs": [
    {
     "output_type": "stream",
     "name": "stdout",
     "text": [
      "tensor(2.)\n"
     ]
    }
   ],
   "source": [
    "#y2.backward() # Error\n",
    "#y4.backward() # Error, although y4.requires_grad is true\n",
    "y3.backward()\n",
    "print(x.grad) \n"
   ]
  },
  {
   "source": [
    "## 4.4 `data`\n",
    "Change the value without being tracked"
   ],
   "cell_type": "markdown",
   "metadata": {}
  },
  {
   "cell_type": "code",
   "execution_count": 41,
   "metadata": {},
   "outputs": [
    {
     "output_type": "stream",
     "name": "stdout",
     "text": [
      "tensor([1.])\nFalse\ntensor([100.], requires_grad=True)\ntensor([2.])\n"
     ]
    }
   ],
   "source": [
    "x = torch.ones(1, requires_grad=True)\n",
    "print(x.data)\n",
    "print(x.data.requires_grad)\n",
    "\n",
    "y = 2 * x\n",
    "x.data *= 100 # SHARING Memory, but will not be tracked\n",
    "\n",
    "y.backward()\n",
    "print(x)\n",
    "print(x.grad)"
   ]
  }
 ]
}